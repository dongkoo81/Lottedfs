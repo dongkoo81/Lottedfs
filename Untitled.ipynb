{
 "cells": [
  {
   "cell_type": "code",
   "execution_count": 3,
   "id": "49594b76-2edb-49db-ad97-ac62c1f93c98",
   "metadata": {},
   "outputs": [],
   "source": [
    "import boto3\n",
    "from langchain.llms.bedrock import Bedrock\n",
    "\n",
    "bedrock_agent_client = boto3.client(\"bedrock-agent-runtime\")"
   ]
  },
  {
   "cell_type": "code",
   "execution_count": 4,
   "id": "3a9adda3-7e15-448a-b408-ce28367321da",
   "metadata": {},
   "outputs": [],
   "source": [
    "kb_id = \"QJSPIIKOGD\"\n",
    "\n",
    "def retrieveAndGenerate(\n",
    "    input: str,\n",
    "    kbId: str,\n",
    "    region: str = \"us-east-1\",\n",
    "    sessionId: str = None,\n",
    "    model_id: str = \"anthropic.claude-v2:1\",\n",
    "):\n",
    "    model_arn = f\"arn:aws:bedrock:{region}::foundation-model/{model_id}\"\n",
    "\n",
    "    if sessionId:\n",
    "        return bedrock_agent_client.retrieve_and_generate(\n",
    "            input={\"text\": input},\n",
    "            retrieveAndGenerateConfiguration={\n",
    "                \"type\": \"KNOWLEDGE_BASE\",\n",
    "                \"knowledgeBaseConfiguration\": {\n",
    "                    \"knowledgeBaseId\": kbId,\n",
    "                    \"modelArn\": model_arn,\n",
    "                },\n",
    "            },\n",
    "            sessionId=sessionId,\n",
    "        )\n",
    "\n",
    "    else:\n",
    "        return bedrock_agent_client.retrieve_and_generate(\n",
    "            input={\"text\": input},\n",
    "            retrieveAndGenerateConfiguration={\n",
    "                \"type\": \"KNOWLEDGE_BASE\",\n",
    "                \"knowledgeBaseConfiguration\": {\n",
    "                    \"knowledgeBaseId\": kbId,\n",
    "                    \"modelArn\": model_arn,\n",
    "                },\n",
    "            },\n",
    "        )\n",
    "\n",
    "response = retrieveAndGenerate(\n",
    "    \"What are the potential risks and benefits of participating?\", kb_id\n",
    ")"
   ]
  },
  {
   "cell_type": "code",
   "execution_count": 5,
   "id": "05d32ca4-e5b1-47fb-97a6-a7a24c2b1f4d",
   "metadata": {},
   "outputs": [],
   "source": [
    "\n",
    "generated_text = response[\"output\"][\"text\"]"
   ]
  }
 ],
 "metadata": {
  "kernelspec": {
   "display_name": "Python 3 (ipykernel)",
   "language": "python",
   "name": "python3"
  },
  "language_info": {
   "codemirror_mode": {
    "name": "ipython",
    "version": 3
   },
   "file_extension": ".py",
   "mimetype": "text/x-python",
   "name": "python",
   "nbconvert_exporter": "python",
   "pygments_lexer": "ipython3",
   "version": "3.10.13"
  }
 },
 "nbformat": 4,
 "nbformat_minor": 5
}
