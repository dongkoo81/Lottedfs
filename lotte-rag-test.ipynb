{
 "cells": [
  {
   "cell_type": "code",
   "execution_count": 1,
   "id": "bd6dfbb9-91b6-4976-b5c7-b761b7bfe940",
   "metadata": {},
   "outputs": [
    {
     "name": "stdout",
     "output_type": "stream",
     "text": [
      "Requirement already satisfied: boto3 in /opt/conda/lib/python3.10/site-packages (1.34.65)\n",
      "Requirement already satisfied: botocore<1.35.0,>=1.34.65 in /opt/conda/lib/python3.10/site-packages (from boto3) (1.34.65)\n",
      "Requirement already satisfied: jmespath<2.0.0,>=0.7.1 in /opt/conda/lib/python3.10/site-packages (from boto3) (1.0.1)\n",
      "Requirement already satisfied: s3transfer<0.11.0,>=0.10.0 in /opt/conda/lib/python3.10/site-packages (from boto3) (0.10.1)\n",
      "Requirement already satisfied: python-dateutil<3.0.0,>=2.1 in /opt/conda/lib/python3.10/site-packages (from botocore<1.35.0,>=1.34.65->boto3) (2.8.2)\n",
      "Requirement already satisfied: urllib3!=2.2.0,<3,>=1.25.4 in /opt/conda/lib/python3.10/site-packages (from botocore<1.35.0,>=1.34.65->boto3) (1.26.18)\n",
      "Requirement already satisfied: six>=1.5 in /opt/conda/lib/python3.10/site-packages (from python-dateutil<3.0.0,>=2.1->botocore<1.35.0,>=1.34.65->boto3) (1.16.0)\n"
     ]
    }
   ],
   "source": [
    "! pip install -U boto3"
   ]
  },
  {
   "cell_type": "code",
   "execution_count": 9,
   "id": "2565bb68-9489-4557-99fc-59ed93372240",
   "metadata": {},
   "outputs": [],
   "source": [
    "import logging\n",
    "import time\n",
    "\n",
    "import boto3\n",
    "from botocore.client import BaseClient\n",
    "\n",
    "logger = logging.getLogger(__name__)"
   ]
  },
  {
   "cell_type": "code",
   "execution_count": 55,
   "id": "b8babd7e-e2bf-4e03-8a6a-bcf667a78dd8",
   "metadata": {},
   "outputs": [],
   "source": [
    "class BedrockKBAgent():\n",
    "    def __init__(self, region_name=\"us-east-1\"):\n",
    "        \n",
    "        self.region_name = region_name\n",
    "\n",
    "    def _return_aws_service_client(self, resource_name='bedrock', run_time=True) -> BaseClient:\n",
    "\n",
    "        if resource_name == \"bedrock\":\n",
    "            if run_time:\n",
    "                service_client = boto3.client(\n",
    "                    service_name=\"bedrock-agent-runtime\",\n",
    "                    region_name=self.region_name)\n",
    "            else:\n",
    "                service_client = boto3.client(\n",
    "                    service_name=\"bedrock-agent\",\n",
    "                    region_name=self.region_name)\n",
    "        elif resource_name == \"iam\":\n",
    "            service_client = boto3.resource(\"iam\")\n",
    "            \n",
    "        return service_client\n",
    "\n",
    "    def retrieve_from_kb(self,kb_id,query):\n",
    "        client = self._return_aws_service_client(run_time=True)\n",
    "        response = client.retrieve_and_generate(\n",
    "            input={\n",
    "                    'text': query\n",
    "            },\n",
    "            retrieveAndGenerateConfiguration={\n",
    "        'knowledgeBaseConfiguration': {\n",
    "            'knowledgeBaseId': kb_id,\n",
    "            'modelArn': 'arn:aws:bedrock:us-east-1::foundation-model/anthropic.claude-v2:1',\n",
    "            'retrievalConfiguration': {\n",
    "                'vectorSearchConfiguration': {\n",
    "                   #'numberOfResults': 123,\n",
    "                    'overrideSearchType': 'HYBRID'\n",
    "                                             }\n",
    "                                        }\n",
    "                                     },\n",
    "               'type': 'KNOWLEDGE_BASE'\n",
    "                           } \n",
    "            )\n",
    "        print(response)\n",
    "        return response\n",
    "\n"
   ]
  },
  {
   "cell_type": "code",
   "execution_count": 58,
   "id": "cdeae8af-4ab4-4994-8316-951b970eb0f6",
   "metadata": {},
   "outputs": [
    {
     "name": "stdout",
     "output_type": "stream",
     "text": [
      "{'ResponseMetadata': {'RequestId': 'b9c2a212-4e52-42bd-ade5-70e29a7ddb20', 'HTTPStatusCode': 200, 'HTTPHeaders': {'date': 'Tue, 19 Mar 2024 05:35:06 GMT', 'content-type': 'application/json', 'content-length': '2234', 'connection': 'keep-alive', 'x-amzn-requestid': 'b9c2a212-4e52-42bd-ade5-70e29a7ddb20'}, 'RetryAttempts': 0}, 'citations': [{'generatedResponsePart': {'textResponsePart': {'span': {'end': 97, 'start': 0}, 'text': 'はい、お客様の質問の内容は理解できました。新婚旅行から帰ってきた道中で香水を購入され、箱を開けて香りを確認されたところ、とても良い香りでした。他の方にもおすすめしたいと思われた、という内容ですね。'}}, 'retrievedReferences': [{'content': {'text': 'Sheet1  \\t신행\\t신혼여행 \\t꿀템\\t가성비가 매우 좋아요 \\t대박\\t매우 좋음 \\t데일리\\t매일 사용 할 수 있는 \\t필수템\\t필수 아이템 \\t품절대란\\t금방 품절되는 \\t언박싱\\t상품을 구매하여 박스를 열음'}, 'location': {'s3Location': {'uri': 's3://bedrock-vector/구어.xlsx'}, 'type': 'S3'}}]}, {'generatedResponsePart': {'textResponsePart': {'span': {'end': 200, 'start': 99}, 'text': '日本語訳は以下の通りです。\\n\\n「新婚旅行から帰ってくる途中で香水を買いました。家に着いて開封してみたら、香りが本当にいい感じで、なんだか蜜のようなアイテムですね。他の方にも強くおすすめしたいと思います!」'}}, 'retrievedReferences': [{'content': {'text': 'Sheet1  \\t신행\\t신혼여행 \\t꿀템\\t가성비가 매우 좋아요 \\t대박\\t매우 좋음 \\t데일리\\t매일 사용 할 수 있는 \\t필수템\\t필수 아이템 \\t품절대란\\t금방 품절되는 \\t언박싱\\t상품을 구매하여 박스를 열음'}, 'location': {'s3Location': {'uri': 's3://bedrock-vector/구어.xlsx'}, 'type': 'S3'}}]}], 'output': {'text': 'はい、お客様の質問の内容は理解できました。新婚旅行から帰ってきた道中で香水を購入され、箱を開けて香りを確認されたところ、とても良い香りでした。他の方にもおすすめしたいと思われた、という内容ですね。 日本語訳は以下の通りです。\\n\\n「新婚旅行から帰ってくる途中で香水を買いました。家に着いて開封してみたら、香りが本当にいい感じで、なんだか蜜のようなアイテムですね。他の方にも強くおすすめしたいと思います!」'}, 'sessionId': '12cf1fc3-3b02-459b-8f62-a0dfcd920dab'}\n"
     ]
    }
   ],
   "source": [
    "if __name__ == \"__main__\":\n",
    "    kb = BedrockKBAgent()\n",
    "    query=\"\"\"\n",
    "<text> 안에 있는 것은 쇼핑몰에서 파는 상품의 구매자 리뷰야. \n",
    "  <text>\n",
    "  이번에 신행 갔다가 돌아 오는 길에 향수를 샀습니다.\n",
    "  집에서 언박싱 해봤는데 향이 아주 좋고 꿀템같아요.  다른분들께도  강추 합니다!\n",
    "  </text>\n",
    "일본 사람이 자연스럽게 이해 할 수 있도록 일본어로 번역해줘\n",
    "           \"\"\"\n",
    "    response = kb.retrieve_from_kb(\"QJSPIIKOGD\",query)"
   ]
  }
 ],
 "metadata": {
  "kernelspec": {
   "display_name": "Python 3 (ipykernel)",
   "language": "python",
   "name": "python3"
  },
  "language_info": {
   "codemirror_mode": {
    "name": "ipython",
    "version": 3
   },
   "file_extension": ".py",
   "mimetype": "text/x-python",
   "name": "python",
   "nbconvert_exporter": "python",
   "pygments_lexer": "ipython3",
   "version": "3.10.13"
  }
 },
 "nbformat": 4,
 "nbformat_minor": 5
}
