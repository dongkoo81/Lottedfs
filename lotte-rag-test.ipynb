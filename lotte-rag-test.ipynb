{
 "cells": [
  {
   "cell_type": "code",
   "execution_count": 3,
   "id": "bd6dfbb9-91b6-4976-b5c7-b761b7bfe940",
   "metadata": {},
   "outputs": [
    {
     "name": "stdout",
     "output_type": "stream",
     "text": [
      "Requirement already satisfied: boto3 in /opt/conda/lib/python3.10/site-packages (1.34.65)\n",
      "Requirement already satisfied: botocore<1.35.0,>=1.34.65 in /opt/conda/lib/python3.10/site-packages (from boto3) (1.34.65)\n",
      "Requirement already satisfied: jmespath<2.0.0,>=0.7.1 in /opt/conda/lib/python3.10/site-packages (from boto3) (1.0.1)\n",
      "Requirement already satisfied: s3transfer<0.11.0,>=0.10.0 in /opt/conda/lib/python3.10/site-packages (from boto3) (0.10.1)\n",
      "Requirement already satisfied: python-dateutil<3.0.0,>=2.1 in /opt/conda/lib/python3.10/site-packages (from botocore<1.35.0,>=1.34.65->boto3) (2.8.2)\n",
      "Requirement already satisfied: urllib3!=2.2.0,<3,>=1.25.4 in /opt/conda/lib/python3.10/site-packages (from botocore<1.35.0,>=1.34.65->boto3) (1.26.18)\n",
      "Requirement already satisfied: six>=1.5 in /opt/conda/lib/python3.10/site-packages (from python-dateutil<3.0.0,>=2.1->botocore<1.35.0,>=1.34.65->boto3) (1.16.0)\n"
     ]
    }
   ],
   "source": [
    "! pip install -U boto3"
   ]
  },
  {
   "cell_type": "code",
   "execution_count": 9,
   "id": "2565bb68-9489-4557-99fc-59ed93372240",
   "metadata": {},
   "outputs": [],
   "source": [
    "import logging\n",
    "import time\n",
    "\n",
    "import boto3\n",
    "from botocore.client import BaseClient\n",
    "\n",
    "logger = logging.getLogger(__name__)"
   ]
  },
  {
   "cell_type": "code",
   "execution_count": 27,
   "id": "b8babd7e-e2bf-4e03-8a6a-bcf667a78dd8",
   "metadata": {},
   "outputs": [],
   "source": [
    "class BedrockKBAgent():\n",
    "    def __init__(self, region_name=\"us-east-1\"):\n",
    "        \n",
    "        self.region_name = region_name\n",
    "\n",
    "    def _return_aws_service_client(self, resource_name='bedrock', run_time=True) -> BaseClient:\n",
    "\n",
    "        if resource_name == \"bedrock\":\n",
    "            if run_time:\n",
    "                service_client = boto3.client(\n",
    "                    service_name=\"bedrock-agent-runtime\",\n",
    "                    region_name=self.region_name)\n",
    "            else:\n",
    "                service_client = boto3.client(\n",
    "                    service_name=\"bedrock-agent\",\n",
    "                    region_name=self.region_name)\n",
    "        elif resource_name == \"iam\":\n",
    "            service_client = boto3.resource(\"iam\")\n",
    "            \n",
    "        return service_client\n",
    "\n",
    "    def retrieve_from_kb(self,kb_id,query):\n",
    "        client = self._return_aws_service_client(run_time=True)\n",
    "        response = client.retrieve_and_generate(\n",
    "            input={\n",
    "                    'text': query\n",
    "            },\n",
    "            retrieveAndGenerateConfiguration={\n",
    "        'knowledgeBaseConfiguration': {\n",
    "            'knowledgeBaseId': kb_id,\n",
    "            'modelArn': 'arn:aws:bedrock:us-east-1::foundation-model/anthropic.claude-v2:1',\n",
    "            'retrievalConfiguration': {\n",
    "                'vectorSearchConfiguration': {\n",
    "                   #'numberOfResults': 123,\n",
    "                    'overrideSearchType': 'HYBRID'\n",
    "                                             }\n",
    "                                        } \n",
    "                                     },\n",
    "               'type': 'KNOWLEDGE_BASE'\n",
    "                           } \n",
    "            )\n",
    "        #print(response)\n",
    "        return response"
   ]
  },
  {
   "cell_type": "code",
   "execution_count": 33,
   "id": "cdeae8af-4ab4-4994-8316-951b970eb0f6",
   "metadata": {},
   "outputs": [
    {
     "name": "stdout",
     "output_type": "stream",
     "text": [
      "この度は新婚旅行で香水をお買い上げいただき、ありがとうございます。お家に帰って開封したところ、香りがとても良く、大満足の一品でしたね。他の方にもぜひおすすめしたいです!\n"
     ]
    }
   ],
   "source": [
    "if __name__ == \"__main__\":\n",
    "    kb = BedrockKBAgent()\n",
    "    query=\"\"\"\n",
    "<text> 안에 있는 것은 쇼핑몰에서 파는 상품의 구매자 리뷰야. \n",
    "  <text>\n",
    "  이번에 신행 갔다가 돌아 오는 길에 향수를 샀습니다.\n",
    "  집에서 언박싱 해봤는데 향이 아주 좋고 꿀템같아요.  다른분들께도  강추 합니다!\n",
    "  </text>\n",
    "일본 사람이 자연스럽게 이해 할 수 있도록 번역해줘\n",
    "           \"\"\"\n",
    "    response = kb.retrieve_from_kb(\"QJSPIIKOGD\",query)\n",
    "    #print(response)\n",
    "    print(response['output']['text'])"
   ]
  }
 ],
 "metadata": {
  "kernelspec": {
   "display_name": "Python 3 (ipykernel)",
   "language": "python",
   "name": "python3"
  },
  "language_info": {
   "codemirror_mode": {
    "name": "ipython",
    "version": 3
   },
   "file_extension": ".py",
   "mimetype": "text/x-python",
   "name": "python",
   "nbconvert_exporter": "python",
   "pygments_lexer": "ipython3",
   "version": "3.10.13"
  }
 },
 "nbformat": 4,
 "nbformat_minor": 5
}
