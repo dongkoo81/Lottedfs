{
 "cells": [
  {
   "cell_type": "code",
   "execution_count": 37,
   "id": "41c12efb-e1a2-4582-852c-35ee34296322",
   "metadata": {},
   "outputs": [
    {
     "name": "stdout",
     "output_type": "stream",
     "text": [
      "Requirement already satisfied: anthropic[bedrock] in /opt/conda/lib/python3.10/site-packages (0.19.1)\n",
      "Requirement already satisfied: anyio<5,>=3.5.0 in /opt/conda/lib/python3.10/site-packages (from anthropic[bedrock]) (3.7.1)\n",
      "Requirement already satisfied: distro<2,>=1.7.0 in /opt/conda/lib/python3.10/site-packages (from anthropic[bedrock]) (1.9.0)\n",
      "Requirement already satisfied: httpx<1,>=0.23.0 in /opt/conda/lib/python3.10/site-packages (from anthropic[bedrock]) (0.27.0)\n",
      "Requirement already satisfied: pydantic<3,>=1.9.0 in /opt/conda/lib/python3.10/site-packages (from anthropic[bedrock]) (1.10.13)\n",
      "Requirement already satisfied: sniffio in /opt/conda/lib/python3.10/site-packages (from anthropic[bedrock]) (1.3.0)\n",
      "Requirement already satisfied: tokenizers>=0.13.0 in /opt/conda/lib/python3.10/site-packages (from anthropic[bedrock]) (0.13.3)\n",
      "Requirement already satisfied: typing-extensions<5,>=4.7 in /opt/conda/lib/python3.10/site-packages (from anthropic[bedrock]) (4.10.0)\n",
      "Requirement already satisfied: boto3>=1.28.57 in /opt/conda/lib/python3.10/site-packages (from anthropic[bedrock]) (1.28.64)\n",
      "Requirement already satisfied: botocore>=1.31.57 in /opt/conda/lib/python3.10/site-packages (from anthropic[bedrock]) (1.31.64)\n",
      "Requirement already satisfied: idna>=2.8 in /opt/conda/lib/python3.10/site-packages (from anyio<5,>=3.5.0->anthropic[bedrock]) (3.6)\n",
      "Requirement already satisfied: exceptiongroup in /opt/conda/lib/python3.10/site-packages (from anyio<5,>=3.5.0->anthropic[bedrock]) (1.2.0)\n",
      "Requirement already satisfied: jmespath<2.0.0,>=0.7.1 in /opt/conda/lib/python3.10/site-packages (from boto3>=1.28.57->anthropic[bedrock]) (1.0.1)\n",
      "Requirement already satisfied: s3transfer<0.8.0,>=0.7.0 in /opt/conda/lib/python3.10/site-packages (from boto3>=1.28.57->anthropic[bedrock]) (0.7.0)\n",
      "Requirement already satisfied: python-dateutil<3.0.0,>=2.1 in /opt/conda/lib/python3.10/site-packages (from botocore>=1.31.57->anthropic[bedrock]) (2.8.2)\n",
      "Requirement already satisfied: urllib3<2.1,>=1.25.4 in /opt/conda/lib/python3.10/site-packages (from botocore>=1.31.57->anthropic[bedrock]) (1.26.18)\n",
      "Requirement already satisfied: certifi in /opt/conda/lib/python3.10/site-packages (from httpx<1,>=0.23.0->anthropic[bedrock]) (2023.11.17)\n",
      "Requirement already satisfied: httpcore==1.* in /opt/conda/lib/python3.10/site-packages (from httpx<1,>=0.23.0->anthropic[bedrock]) (1.0.4)\n",
      "Requirement already satisfied: h11<0.15,>=0.13 in /opt/conda/lib/python3.10/site-packages (from httpcore==1.*->httpx<1,>=0.23.0->anthropic[bedrock]) (0.14.0)\n",
      "Requirement already satisfied: six>=1.5 in /opt/conda/lib/python3.10/site-packages (from python-dateutil<3.0.0,>=2.1->botocore>=1.31.57->anthropic[bedrock]) (1.16.0)\n",
      "Note: you may need to restart the kernel to use updated packages.\n"
     ]
    }
   ],
   "source": [
    "%pip install -U \"anthropic[bedrock]\""
   ]
  },
  {
   "cell_type": "code",
   "execution_count": 56,
   "id": "1150349b-217e-4b79-a7c3-ae9179acaae6",
   "metadata": {},
   "outputs": [],
   "source": [
    "import os\n",
    "import json\n",
    "import boto3\n",
    "\n",
    "bedrock = boto3.client(service_name='bedrock-runtime',region_name='us-east-1')\n"
   ]
  },
  {
   "cell_type": "code",
   "execution_count": 70,
   "id": "90548b6b-3f12-4dbb-a853-0c5c7a33d8ca",
   "metadata": {},
   "outputs": [],
   "source": [
    "prompt = \"\"\"\n",
    "\n",
    "\n",
    "Human: \b아래 <text> 는 한국어로 작성된 상품리뷰야. \n",
    "\n",
    "<example>\n",
    "신행 : 신혼여행 \n",
    "</example> \n",
    "\n",
    "<text>\n",
    "최애템이예요 면세점 아니면 비싸서 못쓰지만 이가격에 두개라니~~ 신행가면서 샀는데 다쓰면 또 살거예욤\n",
    "</text>\n",
    "상품 리뷰의 느낌이 일본어 사용자에게 잘 전달 되도록 정확하고 자연스러운 일본어로 번역해줘\n",
    "Assistant:\n",
    "\"\"\" "
   ]
  },
  {
   "cell_type": "code",
   "execution_count": 72,
   "id": "b4fdd738-299e-4fa7-a4e5-ad0029894705",
   "metadata": {},
   "outputs": [],
   "source": [
    "body = json.dumps({\"prompt\": prompt,\n",
    "                 \"max_tokens_to_sample\":4096,\n",
    "                 \"temperature\":0.5,\n",
    "                 \"top_k\":250,\n",
    "                 \"top_p\":0.5,\n",
    "                 \"stop_sequences\":[]\n",
    "                  }) "
   ]
  },
  {
   "cell_type": "code",
   "execution_count": 74,
   "id": "aa839145-d7a5-41c0-8e7a-babb5c27e535",
   "metadata": {},
   "outputs": [
    {
     "name": "stdout",
     "output_type": "stream",
     "text": [
      " <text>\n",
      "この商品は私のお気に入りです。免税店でないと高くて使えないのですが、この価格で2個入りなんて~~新婚旅行に行く時に買ったのですが、使い切ったらまた買おうと思います。\n",
      "</text>\n"
     ]
    }
   ],
   "source": [
    "# modelId = 'anthropic.claude-3-sonnet-20240229-v1:0' \n",
    "modelId = 'anthropic.claude-v2'\n",
    "accept = 'application/json'\n",
    "contentType = 'application/json'\n",
    "\n",
    "response = bedrock.invoke_model(body=body, modelId=modelId, accept=accept, contentType=contentType)\n",
    "response_body = json.loads(response.get('body').read())\n",
    "\n",
    "print(response_body.get('completion').split('\\n\\n')[0] )\n"
   ]
  },
  {
   "cell_type": "code",
   "execution_count": null,
   "id": "0f409f38-d49c-4c2a-a730-daa4b4f5c125",
   "metadata": {},
   "outputs": [],
   "source": []
  }
 ],
 "metadata": {
  "kernelspec": {
   "display_name": "Python 3 (ipykernel)",
   "language": "python",
   "name": "python3"
  },
  "language_info": {
   "codemirror_mode": {
    "name": "ipython",
    "version": 3
   },
   "file_extension": ".py",
   "mimetype": "text/x-python",
   "name": "python",
   "nbconvert_exporter": "python",
   "pygments_lexer": "ipython3",
   "version": "3.10.13"
  }
 },
 "nbformat": 4,
 "nbformat_minor": 5
}
